{
 "cells": [
  {
   "cell_type": "code",
   "execution_count": null,
   "metadata": {},
   "outputs": [],
   "source": [
    "!pip install brightway2"
   ]
  },
  {
   "cell_type": "code",
   "execution_count": null,
   "metadata": {},
   "outputs": [],
   "source": [
    "from brightway2 import projects, methods, get_activity, Method, Database\n",
    "\n",
    "projects.set_current(\"ecoview\")\n",
    "projects.create_project(\"ecoview\", overwrite=True)\n",
    "ply = Database(\"ecoinvent\").search(\"polymer\")\n",
    "print(ply)"
   ]
  },
  {
   "cell_type": "code",
   "execution_count": null,
   "metadata": {},
   "outputs": [],
   "source": [
    "query = \"product_name\"\n",
    "product_key = results[0][1]\n",
    "product_processes = get_activity(product_key)"
   ]
  },
  {
   "cell_type": "code",
   "execution_count": null,
   "metadata": {},
   "outputs": [],
   "source": [
    "print(\"Name : \", product_processes[\"name\"])\n",
    "print(\"Inputs:\", product_processes.technosphere())\n",
    "print(\"Outputs:\", product_processes.production())"
   ]
  },
  {
   "cell_type": "code",
   "execution_count": null,
   "metadata": {},
   "outputs": [],
   "source": [
    "def calculate_impact_scores(product_key, method):\n",
    "    product_process = get_activity(product_key)\n",
    "    scores = product_process.calculate(method)\n",
    "    return scores\n",
    "\n",
    "gwp_method = Method((\"IMPACT 2002+ (Default)\", \"Climate Change\", \"GWP 100a\"))\n",
    "gwp_scores = calculate_impact_scores(product_key, gwp_method)\n",
    "print(\"Environmental Impact Scores : \", gwp_scores)\n",
    "\n",
    "# Human Health (DALY)\n",
    "daly_method = Method((\"ReCiPe Midpoint (H)\", \"human health\", \"DALY\"))\n",
    "daly_scores = calculate_impact_scores(product_key, daly_method)\n",
    "print(\"Human Health (DALY) Scores:\", daly_scores)\n",
    "\n",
    "# Eutrophication (Freshwater Eutrophication Potential - FEP)\n",
    "fep_method = Method((\"ReCiPe Midpoint (H)\", \"freshwater eutrophication\", \"FEP\"))\n",
    "fep_scores = calculate_impact_scores(product_key, fep_method)\n",
    "print(\"Eutrophication (FEP) Scores:\", fep_scores)\n",
    "\n",
    "# Land Use\n",
    "land_use_method = Method((\"ReCiPe Midpoint (H)\", \"land use\", \"land occupation\"))\n",
    "land_use_scores = calculate_impact_scores(product_key, land_use_method)\n",
    "print(\"Land Use Scores:\", land_use_scores)\n",
    "\n",
    "# Resource Depletion (Abiotic Resource Depletion - ARD)\n",
    "ard_method = Method((\"ReCiPe Midpoint (H)\", \"abiotic resource depletion\", \"ARD\"))\n",
    "ard_scores = calculate_impact_scores(product_key, ard_method)\n",
    "print(\"Resource Depletion (ARD) Scores:\", ard_scores)\n",
    "\n",
    "# Water Use\n",
    "water_use_method = Method((\"ReCiPe Midpoint (H)\", \"water use\", \"water consumption\"))\n",
    "water_use_scores = calculate_impact_scores(product_key, water_use_method)\n",
    "print(\"Water Use Scores:\", water_use_scores)"
   ]
  },
  {
   "cell_type": "code",
   "execution_count": null,
   "metadata": {},
   "outputs": [],
   "source": [
    "import brightway2 as bw2\n",
    "from bw2data.parameters import ActivityParameter\n",
    "from bw2io.extractors.ecoinvent import extract_ecoinvent_activities\n",
    "from bw2io import create_default_biosphere3, SingleOutputEcospold2Importer\n",
    "import os"
   ]
  },
  {
   "cell_type": "code",
   "execution_count": null,
   "metadata": {},
   "outputs": [],
   "source": [
    "bw2.projects.set_current(\"project_name\")\n",
    "bw2.bw2setup()\n",
    "\n",
    "# Initilize the ecoinvent database (Replace with the actual ecoinvent database file)\n",
    "ecoinvent_data_file = \"path/to/ecoinvent_data.ecosplod2\"\n",
    "ei_importer = SingleOutputEcospold2Importer(ecoinvent_data_file, \"ecoinvent\")\n",
    "ei_importer.applied_strategies()\n",
    "ei_importer.statistics()\n",
    "ei_importer.write_database()"
   ]
  },
  {
   "cell_type": "code",
   "execution_count": null,
   "metadata": {},
   "outputs": [],
   "source": [
    "label_to_activity = {\n",
    "    'label_1': 'activity_key_1',\n",
    "    'label_2': 'activity_key_2',\n",
    "}\n",
    "\n",
    "def map_labels_to_activities(labels):\n",
    "    ecoinvent_activities = set()\n",
    "    for label in labels:\n",
    "        if label in label_to_activity:\n",
    "            ecoinvent_activities.add(label_to_activity[label])\n",
    "    return ecoinvent_activities\n",
    "\n",
    "def extract_info_from_ecoinvent(ecoinvent_activities):\n",
    "    product_info = []\n",
    "    for activity_key in ecoinvent_activities:\n",
    "        activity = bw2.get_activity(activity_key)\n",
    "        info = {\n",
    "            'name': activity['name'],\n",
    "            'unit': activity['unit'],\n",
    "            'location': activity['location'],\n",
    "        }\n",
    "        product_info.append(info)\n",
    "    return product_info\n",
    "\n",
    "def create_dynamic_mapping(labels):\n",
    "    pass"
   ]
  }
 ],
 "metadata": {
  "language_info": {
   "name": "python"
  },
  "orig_nbformat": 4
 },
 "nbformat": 4,
 "nbformat_minor": 2
}
